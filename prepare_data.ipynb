{
 "cells": [
  {
   "cell_type": "code",
   "execution_count": 5,
   "metadata": {},
   "outputs": [
    {
     "name": "stdout",
     "output_type": "stream",
     "text": [
      "0.6481481481481481 0.7230362230362231 0.11534391534391535 0.042735042735042736\n",
      "245 378 293 401\n"
     ]
    },
    {
     "data": {
      "text/plain": [
       "True"
      ]
     },
     "execution_count": 5,
     "metadata": {},
     "output_type": "execute_result"
    }
   ],
   "source": [
    "import cv2\n",
    "\n",
    "# Load the image and annotated file\n",
    "#TESTA COM ESSA COMENTADA DEPOIS\n",
    "# image = cv2.imread(\"/Users/lucas.wojahn/Documents/GitHub/duke-dbt-data/data/resized/DBT-P03658-9b4cb4d3-1981-4d91-b72e-fc8f418909ed.jpg\")\n",
    "# annotated_file = open(\"/Users/lucas.wojahn/Documents/GitHub/duke-dbt-data/data/resized/DBT-P03658-9b4cb4d3-1981-4d91-b72e-fc8f418909ed.txt\", \"r\")\n",
    "###\n",
    "image = cv2.imread(\"/Users/lucas.wojahn/Documents/GitHub/duke-dbt-data/data/augmented/sheared_DBT-P00013-af4cdebf-7ca4-45a1-8aa2-5691e9a7c9d8.jpg\")\n",
    "annotated_file = open(\"/Users/lucas.wojahn/Documents/GitHub/duke-dbt-data/data/resized/DBT-P00013-af4cdebf-7ca4-45a1-8aa2-5691e9a7c9d8.txt\", \"r\")\n",
    "\n",
    "# Define the class labels\n",
    "class_labels = [\"class 1\", \"class 2\", \"class 3\"]\n",
    "\n",
    "# Iterate over each line in the annotated file\n",
    "for line in annotated_file:\n",
    "    # Parse the line to get the bounding box and class label\n",
    "    class_id, x_center, y_center, width, height = map(float, line.strip().split())\n",
    "    class_id = int(class_id)\n",
    "    print(x_center, y_center, width, height)\n",
    "    # Calculate the coordinates of the top-left and bottom-right corners of the bounding box\n",
    "    # int((x_center - width / 2) * 416)\n",
    "    x1 = int((x_center - (width / 2)) * 416)\n",
    "    y1 = int((y_center - (height / 2)) * 540)\n",
    "    x2 = int((x_center + (width / 2)) * 416)\n",
    "    y2 = int((y_center + (height / 2)) * 540)\n",
    "    \n",
    "    print(x1,y1,x2,y2)\n",
    "\n",
    "\n",
    "    # Draw the bounding box on the image\n",
    "    cv2.rectangle(image, (x1, y1), (x2, y2), (0, 255, 0), 2)\n",
    "\n",
    "    # Add the class label to the bounding box\n",
    "    label = class_labels[class_id]\n",
    "    cv2.putText(image, label, (x1, y1 - 10), cv2.FONT_HERSHEY_SIMPLEX, 0.5, (0, 255, 0), 2)\n",
    "\n",
    "# Display the image with the bounding boxes and class labels\n",
    "cv2.imwrite(\"/Users/lucas.wojahn/Documents/GitHub/duke-dbt-data/data/test_augmented.jpg\", image)\n",
    "# cv2.save\n",
    "# cv2.waitKey(0)\n",
    "# cv2.destroyAllWindows()\n"
   ]
  },
  {
   "cell_type": "code",
   "execution_count": 27,
   "metadata": {},
   "outputs": [
    {
     "name": "stdout",
     "output_type": "stream",
     "text": [
      "0.6481481481481481 0.7230362230362231 0.11534391534391535 0.042735042735042736\n"
     ]
    }
   ],
   "source": [
    "import pybboxes as pbx\n",
    "\n",
    "voc_bbox = (1116, 1724, 218, 105)\n",
    "W, H = 1890, 2457  # WxH of the image\n",
    "normalized_x,normalized_y,normalized_width,normalized_height = pbx.convert_bbox(voc_bbox, from_type=\"coco\", to_type=\"yolo\", image_size=(W,H))\n",
    "print(normalized_x,normalized_y,normalized_width,normalized_height)"
   ]
  },
  {
   "cell_type": "code",
   "execution_count": null,
   "metadata": {},
   "outputs": [],
   "source": [
    "import cv2\n",
    "import imutils\n",
    "\n",
    "# Load the image\n",
    "image = cv2.imread(\"path/to/image.jpg\")\n",
    "\n",
    "# Define the desired size\n",
    "width = 416\n",
    "height = 416\n",
    "\n",
    "# Resize the image while maintaining the aspect ratio\n",
    "resized_image = imutils.resize(image, width=width, height=height)\n",
    "\n",
    "# Display the original and resized images\n",
    "cv2.imshow(\"Original Image\", image)\n",
    "cv2.imshow(\"Resized Image\", resized_image)\n",
    "cv2.waitKey(0)\n"
   ]
  },
  {
   "cell_type": "code",
   "execution_count": 28,
   "metadata": {},
   "outputs": [],
   "source": [
    "import os\n",
    "\n",
    "# Set the path of the folder containing the .jpg files\n",
    "folder_path = \"/Users/lucas.wojahn/Documents/GitHub/darknet/data/dbt-data/train\"\n",
    "\n",
    "# Get a list of all the .jpg files in the folder\n",
    "jpg_files = [f for f in os.listdir(folder_path) if f.endswith(\".jpg\")]\n",
    "\n",
    "# Create a new file to store the names of the .jpg files\n",
    "txt_file_path = \"/Users/lucas.wojahn/Documents/GitHub/darknet/data/dbt-data/train.txt\"\n",
    "txt_file = open(txt_file_path, \"w\")\n",
    "\n",
    "# Write the names of the .jpg files to the .txt file, one per line\n",
    "for jpg_file in jpg_files:\n",
    "    txt_file.write('/content/darknet/data/dbt-data/train/'+jpg_file + \"\\n\")\n",
    "\n",
    "# Close the .txt file\n",
    "txt_file.close()"
   ]
  },
  {
   "cell_type": "code",
   "execution_count": 42,
   "metadata": {},
   "outputs": [],
   "source": [
    "import os\n",
    "\n",
    "# Directory path\n",
    "dir_path = '/Users/lucas.wojahn/Documents/GitHub/darknet/data/dbt-data/train'\n",
    "txt_dir = '/Users/lucas.wojahn/Documents/GitHub/darknet/data/dbt-data/train.txt'\n",
    "\n",
    "# Get a list of all file names in the directory\n",
    "file_names = os.listdir(dir_path)\n",
    "\n",
    "# Write the file names to a text file\n",
    "with open(txt_dir, 'w') as f:\n",
    "    for file_name in file_names:\n",
    "        if file_name.endswith('.jpg'):\n",
    "            f.write('/content/darknet/data/dbt-data/train/'+ file_name + '\\n')\n",
    "\n",
    "# # Directory path\n",
    "dir_path = '/Users/lucas.wojahn/Documents/GitHub/darknet/data/dbt-data/valid'\n",
    "txt_dir = '/Users/lucas.wojahn/Documents/GitHub/darknet/data/dbt-data/valid.txt'\n",
    "\n",
    "# Get a list of all file names in the directory\n",
    "file_names = os.listdir(dir_path)\n",
    "\n",
    "# Write the file names to a text file\n",
    "with open(txt_dir, 'w') as f:\n",
    "    for valid_name in file_names:\n",
    "        if valid_name.endswith('.jpg'):\n",
    "            f.write('/content/darknet/data/dbt-data/train/'+ valid_name + '.jpg' + '\\n')\n"
   ]
  },
  {
   "cell_type": "code",
   "execution_count": 2,
   "metadata": {},
   "outputs": [
    {
     "name": "stdout",
     "output_type": "stream",
     "text": [
      "/Users/lucas.wojahn/Documents/GitHub/duke-dbt-data/data/train2/DBT-P04858-20c3a7ac-1424-45fd-8ebb-5fda516b0bdf.jpg\n"
     ]
    },
    {
     "name": "stderr",
     "output_type": "stream",
     "text": [
      "[ WARN:0@157.576] global /Users/runner/miniforge3/conda-bld/libopencv_1648505780961/work/modules/imgcodecs/src/loadsave.cpp (239) findDecoder imread_('/Users/lucas.wojahn/Documents/GitHub/duke-dbt-data/data/train2/DBT-P04858-20c3a7ac-1424-45fd-8ebb-5fda516b0bdf.jpg'): can't open/read file: check file path/integrity\n"
     ]
    },
    {
     "ename": "AttributeError",
     "evalue": "'NoneType' object has no attribute 'shape'",
     "output_type": "error",
     "traceback": [
      "\u001b[0;31m---------------------------------------------------------------------------\u001b[0m",
      "\u001b[0;31mAttributeError\u001b[0m                            Traceback (most recent call last)",
      "Cell \u001b[0;32mIn[2], line 19\u001b[0m\n\u001b[1;32m     17\u001b[0m \u001b[39mprint\u001b[39m(img_file)\n\u001b[1;32m     18\u001b[0m img \u001b[39m=\u001b[39m cv2\u001b[39m.\u001b[39mimread(img_file)\n\u001b[0;32m---> 19\u001b[0m h_img, w_img \u001b[39m=\u001b[39m img\u001b[39m.\u001b[39;49mshape[:\u001b[39m2\u001b[39m]\n\u001b[1;32m     21\u001b[0m x,y,w,h \u001b[39m=\u001b[39m \u001b[39mint\u001b[39m(line[\u001b[39m1\u001b[39m]), \u001b[39mint\u001b[39m(line[\u001b[39m2\u001b[39m]), \u001b[39mint\u001b[39m(line[\u001b[39m3\u001b[39m]), \u001b[39mint\u001b[39m(line[\u001b[39m4\u001b[39m])\n\u001b[1;32m     23\u001b[0m x_normalized \u001b[39m=\u001b[39m x\u001b[39m/\u001b[39mw_img\n",
      "\u001b[0;31mAttributeError\u001b[0m: 'NoneType' object has no attribute 'shape'"
     ]
    }
   ],
   "source": [
    "import os\n",
    "import cv2\n",
    "\n",
    "ann_dir = '/Users/lucas.wojahn/Documents/GitHub/duke-dbt-data/data/train2'\n",
    "ann_dir_out = '/Users/lucas.wojahn/Documents/GitHub/duke-dbt-data/data/resized'\n",
    "\n",
    "for filename in os.listdir(ann_dir):\n",
    "    # Check if the file is a text file\n",
    "    if filename.endswith(\".txt\"):\n",
    "        x_normalized,y_normalized,w_normalized,h_normalized = 0,0,0,0\n",
    "        classe = 0\n",
    "        with open(os.path.join(ann_dir, filename), \"r\") as f:\n",
    "            lines = f.readlines()\n",
    "            line = lines[0].split(\" \")\n",
    "\n",
    "            img_file = os.path.join(ann_dir, filename).replace('.txt','.jpg')\n",
    "            print(img_file)\n",
    "            img = cv2.imread(img_file)\n",
    "            h_img, w_img = img.shape[:2]\n",
    "\n",
    "            x,y,w,h = int(line[1]), int(line[2]), int(line[3]), int(line[4])\n",
    "\n",
    "            x_normalized = x/w_img\n",
    "            y_normalized = y/h_img\n",
    "            w_normalized = w/w_img\n",
    "            h_normalized = h/h_img\n",
    "\n",
    "            classe = line[0]\n",
    "\n",
    "            print(x_normalized,y_normalized,w_normalized,h_normalized)\n",
    "\n",
    "        with open(os.path.join(ann_dir_out, filename), \"w\") as f:\n",
    "            f.write(f'{classe} {x_normalized} {y_normalized} {w_normalized} {h_normalized}')\n"
   ]
  },
  {
   "cell_type": "code",
   "execution_count": null,
   "metadata": {},
   "outputs": [],
   "source": [
    "#CODIGO PARA MOVER 45 ARQUIVOS PARA A PASTA VALID\n",
    "import shutil\n",
    "import os\n",
    "\n",
    "src_dir = '/path/to/source/directory'  # path to the source directory\n",
    "dest_dir = '/path/to/destination/directory'  # path to the destination directory\n",
    "third_dir = '/path/to/third/directory'  # path to the third directory\n",
    "\n",
    "# Get a list of .jpg files in the source directory\n",
    "files = [f for f in os.listdir(src_dir) if f.endswith('.jpg')]\n",
    "\n",
    "# Sort the list of files by modification time (oldest to newest)\n",
    "files.sort(key=lambda x: os.path.getmtime(os.path.join(src_dir, x)))\n",
    "\n",
    "# Copy the last 45 files to the destination directory\n",
    "for file in files[-45:]:\n",
    "    src_file = os.path.join(src_dir, file)\n",
    "    dest_file = os.path.join(dest_dir, file)\n",
    "    shutil.copy2(src_file, dest_file)\n",
    "\n",
    "# Copy the remaining files to the third directory\n",
    "for file in files[:-45]:\n",
    "    src_file = os.path.join(src_dir, file)\n",
    "    dest_file = os.path.join(third_dir, file)\n",
    "    shutil.copy2(src_file, dest_file)"
   ]
  }
 ],
 "metadata": {
  "kernelspec": {
   "display_name": "base",
   "language": "python",
   "name": "python3"
  },
  "language_info": {
   "codemirror_mode": {
    "name": "ipython",
    "version": 3
   },
   "file_extension": ".py",
   "mimetype": "text/x-python",
   "name": "python",
   "nbconvert_exporter": "python",
   "pygments_lexer": "ipython3",
   "version": "3.8.16"
  },
  "orig_nbformat": 4,
  "vscode": {
   "interpreter": {
    "hash": "1065b082e50ce1198ea6d55658bf744e498efc9d52dd21c461112fca6bfacbfc"
   }
  }
 },
 "nbformat": 4,
 "nbformat_minor": 2
}
